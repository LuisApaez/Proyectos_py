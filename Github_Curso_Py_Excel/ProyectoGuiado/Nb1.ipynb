{
 "cells": [
  {
   "cell_type": "markdown",
   "metadata": {},
   "source": [
    "# 💥 Primeros pasos con ``Python`` 💥\n",
    "\n",
    "<a style=\"background-color: #ff4800; color: #000000; border: none; padding: 10px 15px; border-radius: 5px;\">Clase 1</a> \n",
    "<a style=\"background-color: #ff4800; color: #000000; border: none; padding: 10px 15px; border-radius: 5px;\">28 de Octubre del 2023</a>\n",
    "<a style=\"background-color: #ff4800; color: #000000; border: none; padding: 10px 15px; border-radius: 5px;\">Cursos PyM</a>\n",
    "<a style=\"background-color: #ff4800; color: #000000; border: none; padding: 10px 15px; border-radius: 5px;\">Luis Fernando Apáez Álvarez</a>\n",
    "<a href=\"#📘-formulario-📘\" style=\"background-color: #fefe04; color: #000000; border: none; padding: 10px 15px; border-radius: 5px;\">Formulario</a>\n",
    "        \n",
    "\n",
    "---\n",
    "\n",
    "## 📚 Contenido:\n",
    "\n",
    "En esta clase aprenderemos a utilizar ``Python`` realizando cálculos sencillos, definiremos variables, aprenderemos a utilizar algunas de sus funciones integradas y a importar librerías, en particular importaremos la librería ``Pandas`` 🐼 para realizar la carga de una tabla (_dataframe_) y posteriormente realizar algunas manipulaciones básicas.\n"
   ]
  },
  {
   "cell_type": "code",
   "execution_count": 1,
   "metadata": {},
   "outputs": [
    {
     "data": {
      "text/plain": [
       "2"
      ]
     },
     "execution_count": 1,
     "metadata": {},
     "output_type": "execute_result"
    }
   ],
   "source": []
  },
  {
   "cell_type": "code",
   "execution_count": 12,
   "metadata": {},
   "outputs": [],
   "source": [
    "#import pandas as pd\n",
    "\n",
    "#df = pd.read_csv(r'C:\\Users\\usuario\\OneDrive\\Documentos\\Programación\\Python\\Py-Excel\\Exceles\\ConsolMensual\\Consolidado.csv')\n",
    "#df"
   ]
  },
  {
   "cell_type": "markdown",
   "metadata": {},
   "source": [
    "## 📘 Formulario 📘\n",
    "\n",
    "1. "
   ]
  },
  {
   "cell_type": "code",
   "execution_count": 13,
   "metadata": {},
   "outputs": [
    {
     "name": "stdout",
     "output_type": "stream",
     "text": [
      "Hola Mundo\n",
      "Número entero (int): 30\n",
      "Número decimal o flotante (float): 30.5\n",
      "Esto es una cadena de texto\n"
     ]
    }
   ],
   "source": [
    "# Imprimir resultados con la función print()\n",
    "print(\"Hola Mundo\")\n",
    "\n",
    "# Diferentes tipos de datos\n",
    "print(\"Número entero (int):\", 30)\n",
    "print(\"Número decimal o flotante (float):\", 30.5)\n",
    "print(\"Esto es una cadena de texto\")"
   ]
  },
  {
   "cell_type": "code",
   "execution_count": 26,
   "metadata": {},
   "outputs": [
    {
     "name": "stdout",
     "output_type": "stream",
     "text": [
      "Suma: 30\n",
      "Resta: -10\n",
      "Multiplicación: 200\n",
      "División: 0.5\n",
      "División entera: 0\n",
      "Módulo o resto: 10\n",
      "Potencia: 100000000000000000000\n"
     ]
    }
   ],
   "source": [
    "# operadores aritméticos\n",
    "print(\"Suma:\", 10 + 20)\n",
    "print(\"Resta:\", 10 - 20)\n",
    "print(\"Multiplicación:\", 10 * 20)\n",
    "print(\"División:\", 10 / 20)\n",
    "print(\"División entera:\", 10 // 20)\n",
    "print(\"Módulo o resto:\", 10 % 20)\n",
    "print(\"Potencia:\", 10 ** 20)"
   ]
  },
  {
   "cell_type": "markdown",
   "metadata": {},
   "source": [
    "Ejemplo de lo que podemos llegar a hacer con Python: "
   ]
  },
  {
   "cell_type": "code",
   "execution_count": 18,
   "metadata": {},
   "outputs": [
    {
     "data": {
      "text/markdown": [
       "$$10 + 20 =30$$"
      ],
      "text/plain": [
       "<IPython.core.display.Markdown object>"
      ]
     },
     "metadata": {},
     "output_type": "display_data"
    },
    {
     "data": {
      "text/markdown": [
       "$$10 - 20 =-10$$"
      ],
      "text/plain": [
       "<IPython.core.display.Markdown object>"
      ]
     },
     "metadata": {},
     "output_type": "display_data"
    },
    {
     "data": {
      "text/markdown": [
       "$$10 \\cdot 20 =200$$"
      ],
      "text/plain": [
       "<IPython.core.display.Markdown object>"
      ]
     },
     "metadata": {},
     "output_type": "display_data"
    },
    {
     "data": {
      "text/markdown": [
       "$$\\frac{10}{20} =0.5$$"
      ],
      "text/plain": [
       "<IPython.core.display.Markdown object>"
      ]
     },
     "metadata": {},
     "output_type": "display_data"
    },
    {
     "data": {
      "text/markdown": [
       "$$10^{20} =100000000000000000000$$"
      ],
      "text/plain": [
       "<IPython.core.display.Markdown object>"
      ]
     },
     "metadata": {},
     "output_type": "display_data"
    }
   ],
   "source": [
    "\n",
    "###############################################################\n",
    "###############################################################\n",
    "\n",
    "# Realizaremos una salida como la anterior pero mas elegante,\n",
    "# solo es una muestra de lo versatil que es Python.\n",
    "\n",
    "###############################################################\n",
    "###############################################################\n",
    "\n",
    "# Realizamos la importacion necesaria\n",
    "from IPython.display import Markdown\n",
    "\n",
    "# definimos una funcion que ocupara la funcion recien importada\n",
    "def printmd(string):\n",
    "    \"\"\"Funcion para imprimir texto en formato Markdown.\n",
    "    Args:\n",
    "        string (str): Texto a imprimir en formato Markdown o Latex.\n",
    "    \"\"\"\n",
    "    display(Markdown(string))\n",
    "    \n",
    "printmd(r'$$10 + 20 =' + f'{10 + 20}$$')\n",
    "printmd(r'$$10 - 20 =' + f'{10 - 20}$$')\n",
    "printmd(r'$$10 \\cdot 20 =' + f'{10 * 20}$$')\n",
    "printmd(r'$$\\frac{10}{20} =' + f'{10 / 20}$$')\n",
    "printmd(r'$$10^{20} =' + f'{10 ** 20}$$')"
   ]
  },
  {
   "cell_type": "markdown",
   "metadata": {},
   "source": [
    "2."
   ]
  },
  {
   "cell_type": "code",
   "execution_count": 16,
   "metadata": {},
   "outputs": [
    {
     "name": "stdout",
     "output_type": "stream",
     "text": [
      "30\n"
     ]
    }
   ],
   "source": [
    "# Definicion de variables, recuerda que las variables son contenedores de información\n",
    "# y pueden cambiar su valor a lo largo de la ejecución del programa, ademas, recuerda\n",
    "# que el nombre que le des a la variable debe ser descriptivo y no debe empezar con\n",
    "# números ni caracteres especiales, tampoco debe ser una palabra reservada de Python\n",
    "\n",
    "# Definición de variables\n",
    "x = 30\n",
    "print(x)"
   ]
  },
  {
   "cell_type": "markdown",
   "metadata": {},
   "source": [
    "3."
   ]
  },
  {
   "cell_type": "code",
   "execution_count": 17,
   "metadata": {},
   "outputs": [
    {
     "data": {
      "text/plain": [
       "int"
      ]
     },
     "execution_count": 17,
     "metadata": {},
     "output_type": "execute_result"
    }
   ],
   "source": [
    "# Funcion para ver el tipo de dato de una variable\n",
    "type(x)"
   ]
  },
  {
   "cell_type": "code",
   "execution_count": 18,
   "metadata": {},
   "outputs": [
    {
     "data": {
      "text/plain": [
       "float"
      ]
     },
     "execution_count": 18,
     "metadata": {},
     "output_type": "execute_result"
    }
   ],
   "source": [
    "type(30.5)"
   ]
  },
  {
   "cell_type": "code",
   "execution_count": 19,
   "metadata": {},
   "outputs": [
    {
     "data": {
      "text/plain": [
       "str"
      ]
     },
     "execution_count": 19,
     "metadata": {},
     "output_type": "execute_result"
    }
   ],
   "source": [
    "type(\"Hola Mundo\")"
   ]
  },
  {
   "cell_type": "code",
   "execution_count": 20,
   "metadata": {},
   "outputs": [
    {
     "data": {
      "text/plain": [
       "bool"
      ]
     },
     "execution_count": 20,
     "metadata": {},
     "output_type": "execute_result"
    }
   ],
   "source": [
    "type(True)"
   ]
  },
  {
   "cell_type": "markdown",
   "metadata": {},
   "source": [
    "4. "
   ]
  },
  {
   "cell_type": "code",
   "execution_count": 22,
   "metadata": {},
   "outputs": [
    {
     "name": "stdout",
     "output_type": "stream",
     "text": [
      "True\n",
      "False\n",
      "False\n",
      "True\n",
      "False\n",
      "True\n"
     ]
    }
   ],
   "source": [
    "# Operadores booleanos:\n",
    "# Igualdad (==)\n",
    "print(5 == 5)\n",
    "\n",
    "# Diferencia (!=)\n",
    "print(5 != 5)\n",
    "\n",
    "# Mayor que (>)\n",
    "print(5 > 5)\n",
    "\n",
    "# Mayor o igual que (>=)\n",
    "print(5 >= 5)\n",
    "\n",
    "# Menor que (<)\n",
    "print(5 < 5)\n",
    "\n",
    "# Menor o igual que (<=)\n",
    "print(5 <= 5)"
   ]
  },
  {
   "cell_type": "code",
   "execution_count": 23,
   "metadata": {},
   "outputs": [
    {
     "name": "stdout",
     "output_type": "stream",
     "text": [
      "True\n",
      "False\n",
      "False\n",
      "False\n",
      "True\n"
     ]
    }
   ],
   "source": [
    "# Operadores lógicos\n",
    "# Tablas de verdad:\n",
    "# AND: regresara verdadero si y solo si ambos valores son verdaderos\n",
    "print(True and True)\n",
    "print(True and False)\n",
    "print(False and True)\n",
    "print(False and False)\n",
    "\n",
    "# Ejemplo\n",
    "print(5 == 5 and 5 > 3)"
   ]
  },
  {
   "cell_type": "code",
   "execution_count": 24,
   "metadata": {},
   "outputs": [
    {
     "name": "stdout",
     "output_type": "stream",
     "text": [
      "True\n",
      "True\n",
      "True\n",
      "False\n",
      "True\n"
     ]
    }
   ],
   "source": [
    "# OR: regresara verdadero si alguno de los valores es verdadero\n",
    "print(True or True)\n",
    "print(True or False)\n",
    "print(False or True)\n",
    "print(False or False)\n",
    "\n",
    "# Ejemplo\n",
    "print(5 == 5 or 5 > 3)"
   ]
  },
  {
   "cell_type": "code",
   "execution_count": 25,
   "metadata": {},
   "outputs": [
    {
     "name": "stdout",
     "output_type": "stream",
     "text": [
      "False\n",
      "True\n",
      "False\n"
     ]
    }
   ],
   "source": [
    "# NOT: regresara el valor contrario\n",
    "print(not True)\n",
    "print(not False)\n",
    "\n",
    "# Ejemplo\n",
    "print(not (5 == 5))"
   ]
  },
  {
   "cell_type": "markdown",
   "metadata": {},
   "source": [
    "Resumen de las tablas de verdad, es importante recordarlas 🎃🤞👀\n",
    "\n",
    "**Tabla para el operador and:**\n",
    "\n",
    "| A | B | A and B |\n",
    "|---|---|---------|\n",
    "| 0 | 0 |    0    |\n",
    "| 0 | 1 |    0    |\n",
    "| 1 | 0 |    0    |\n",
    "| 1 | 1 |    1    |\n",
    "\n",
    "**Tabla para el operador or:**\n",
    "\n",
    "| A | B | A or B |\n",
    "|---|---|--------|\n",
    "| 0 | 0 |   0    |\n",
    "| 0 | 1 |   1    |\n",
    "| 1 | 0 |   1    |\n",
    "| 1 | 1 |   1    |\n",
    "\n",
    "**Tabla para el operador not:**\n",
    "\n",
    "| A | not A |\n",
    "|---|-------|\n",
    "| 0 |   1   |\n",
    "| 1 |   0   |\n",
    "\n",
    "\n",
    "**Ejemplo práctico de cálculos del valor de verdad:**"
   ]
  },
  {
   "cell_type": "code",
   "execution_count": 19,
   "metadata": {},
   "outputs": [
    {
     "name": "stdout",
     "output_type": "stream",
     "text": [
      "True\n"
     ]
    }
   ],
   "source": [
    "# (True and not (False)) or (False) \n",
    "# (True and True) or (False)\n",
    "# True or False\n",
    "# True\n",
    "\n",
    "# Comprobamos:\n",
    "print( (True and not (False)) or (False) )"
   ]
  },
  {
   "cell_type": "markdown",
   "metadata": {},
   "source": [
    "5. "
   ]
  },
  {
   "cell_type": "code",
   "execution_count": 20,
   "metadata": {},
   "outputs": [
    {
     "data": {
      "text/html": [
       "<div>\n",
       "<style scoped>\n",
       "    .dataframe tbody tr th:only-of-type {\n",
       "        vertical-align: middle;\n",
       "    }\n",
       "\n",
       "    .dataframe tbody tr th {\n",
       "        vertical-align: top;\n",
       "    }\n",
       "\n",
       "    .dataframe thead th {\n",
       "        text-align: right;\n",
       "    }\n",
       "</style>\n",
       "<table border=\"1\" class=\"dataframe\">\n",
       "  <thead>\n",
       "    <tr style=\"text-align: right;\">\n",
       "      <th></th>\n",
       "      <th>CLAVE</th>\n",
       "      <th>PRECIO</th>\n",
       "      <th>CANTIDAD</th>\n",
       "      <th>LINEA</th>\n",
       "      <th>ZONA</th>\n",
       "      <th>DIA</th>\n",
       "    </tr>\n",
       "  </thead>\n",
       "  <tbody>\n",
       "    <tr>\n",
       "      <th>0</th>\n",
       "      <td>DJO759</td>\n",
       "      <td>30522.640813</td>\n",
       "      <td>4</td>\n",
       "      <td>Cuadernos</td>\n",
       "      <td>Centro</td>\n",
       "      <td>2023-04-01</td>\n",
       "    </tr>\n",
       "    <tr>\n",
       "      <th>1</th>\n",
       "      <td>DZA615</td>\n",
       "      <td>1835.883027</td>\n",
       "      <td>34</td>\n",
       "      <td>Cables</td>\n",
       "      <td>Centro</td>\n",
       "      <td>2023-04-01</td>\n",
       "    </tr>\n",
       "    <tr>\n",
       "      <th>2</th>\n",
       "      <td>EZX998</td>\n",
       "      <td>18224.354029</td>\n",
       "      <td>32</td>\n",
       "      <td>Mouse</td>\n",
       "      <td>Centro</td>\n",
       "      <td>2023-04-01</td>\n",
       "    </tr>\n",
       "    <tr>\n",
       "      <th>3</th>\n",
       "      <td>HDT3102</td>\n",
       "      <td>6222.040551</td>\n",
       "      <td>43</td>\n",
       "      <td>Cables</td>\n",
       "      <td>Centro</td>\n",
       "      <td>2023-04-01</td>\n",
       "    </tr>\n",
       "    <tr>\n",
       "      <th>4</th>\n",
       "      <td>XLF186</td>\n",
       "      <td>40254.957010</td>\n",
       "      <td>30</td>\n",
       "      <td>Tijeras</td>\n",
       "      <td>Centro</td>\n",
       "      <td>2023-04-01</td>\n",
       "    </tr>\n",
       "  </tbody>\n",
       "</table>\n",
       "</div>"
      ],
      "text/plain": [
       "     CLAVE        PRECIO  CANTIDAD      LINEA    ZONA         DIA\n",
       "0   DJO759  30522.640813         4  Cuadernos  Centro  2023-04-01\n",
       "1   DZA615   1835.883027        34     Cables  Centro  2023-04-01\n",
       "2   EZX998  18224.354029        32      Mouse  Centro  2023-04-01\n",
       "3  HDT3102   6222.040551        43     Cables  Centro  2023-04-01\n",
       "4   XLF186  40254.957010        30    Tijeras  Centro  2023-04-01"
      ]
     },
     "execution_count": 20,
     "metadata": {},
     "output_type": "execute_result"
    }
   ],
   "source": [
    "# Cargamos un dataframe de ejemplo\n",
    "\n",
    "# Importacion de la libreria a utilizar, recuerda que una libreria es un conjunto de funciones\n",
    "# que nos ayudaran a realizar tareas especificas, en particular la libreria pandas nos ayudara\n",
    "# a trabajar con dataframes, que son tablas de datos.\n",
    "import pandas as pd\n",
    "\n",
    "# CARGA DE DATOS\n",
    "# La funcion para cargar un csv es read_csv(), dentro de la funcion debemos especificar la ruta\n",
    "# como una cadena de texto\n",
    "df = pd.read_csv(r'C:\\Users\\usuario\\OneDrive\\Documentos\\Programación\\Python\\Py-Excel\\Exceles\\ConsolMensual\\Consolidado.csv')\n",
    "\n",
    "# ENCABEZADO\n",
    "df.head()"
   ]
  },
  {
   "cell_type": "code",
   "execution_count": 21,
   "metadata": {},
   "outputs": [
    {
     "data": {
      "text/html": [
       "<div>\n",
       "<style scoped>\n",
       "    .dataframe tbody tr th:only-of-type {\n",
       "        vertical-align: middle;\n",
       "    }\n",
       "\n",
       "    .dataframe tbody tr th {\n",
       "        vertical-align: top;\n",
       "    }\n",
       "\n",
       "    .dataframe thead th {\n",
       "        text-align: right;\n",
       "    }\n",
       "</style>\n",
       "<table border=\"1\" class=\"dataframe\">\n",
       "  <thead>\n",
       "    <tr style=\"text-align: right;\">\n",
       "      <th></th>\n",
       "      <th>CLAVE</th>\n",
       "      <th>PRECIO</th>\n",
       "      <th>CANTIDAD</th>\n",
       "      <th>LINEA</th>\n",
       "      <th>ZONA</th>\n",
       "      <th>DIA</th>\n",
       "    </tr>\n",
       "  </thead>\n",
       "  <tbody>\n",
       "    <tr>\n",
       "      <th>0</th>\n",
       "      <td>DJO759</td>\n",
       "      <td>30522.640813</td>\n",
       "      <td>4</td>\n",
       "      <td>Cuadernos</td>\n",
       "      <td>Centro</td>\n",
       "      <td>2023-04-01</td>\n",
       "    </tr>\n",
       "    <tr>\n",
       "      <th>1</th>\n",
       "      <td>DZA615</td>\n",
       "      <td>1835.883027</td>\n",
       "      <td>34</td>\n",
       "      <td>Cables</td>\n",
       "      <td>Centro</td>\n",
       "      <td>2023-04-01</td>\n",
       "    </tr>\n",
       "    <tr>\n",
       "      <th>2</th>\n",
       "      <td>EZX998</td>\n",
       "      <td>18224.354029</td>\n",
       "      <td>32</td>\n",
       "      <td>Mouse</td>\n",
       "      <td>Centro</td>\n",
       "      <td>2023-04-01</td>\n",
       "    </tr>\n",
       "    <tr>\n",
       "      <th>3</th>\n",
       "      <td>HDT3102</td>\n",
       "      <td>6222.040551</td>\n",
       "      <td>43</td>\n",
       "      <td>Cables</td>\n",
       "      <td>Centro</td>\n",
       "      <td>2023-04-01</td>\n",
       "    </tr>\n",
       "    <tr>\n",
       "      <th>4</th>\n",
       "      <td>XLF186</td>\n",
       "      <td>40254.957010</td>\n",
       "      <td>30</td>\n",
       "      <td>Tijeras</td>\n",
       "      <td>Centro</td>\n",
       "      <td>2023-04-01</td>\n",
       "    </tr>\n",
       "    <tr>\n",
       "      <th>5</th>\n",
       "      <td>OOA274</td>\n",
       "      <td>17270.726576</td>\n",
       "      <td>25</td>\n",
       "      <td>Baterías</td>\n",
       "      <td>Centro</td>\n",
       "      <td>2023-04-01</td>\n",
       "    </tr>\n",
       "    <tr>\n",
       "      <th>6</th>\n",
       "      <td>CSB028</td>\n",
       "      <td>10221.576160</td>\n",
       "      <td>38</td>\n",
       "      <td>Libretas</td>\n",
       "      <td>Centro</td>\n",
       "      <td>2023-04-01</td>\n",
       "    </tr>\n",
       "    <tr>\n",
       "      <th>7</th>\n",
       "      <td>RPU424</td>\n",
       "      <td>26724.895722</td>\n",
       "      <td>21</td>\n",
       "      <td>Sacapuntas</td>\n",
       "      <td>Centro</td>\n",
       "      <td>2023-04-01</td>\n",
       "    </tr>\n",
       "    <tr>\n",
       "      <th>8</th>\n",
       "      <td>RPU424</td>\n",
       "      <td>26724.895722</td>\n",
       "      <td>21</td>\n",
       "      <td>Sacapuntas</td>\n",
       "      <td>Centro</td>\n",
       "      <td>2023-04-01</td>\n",
       "    </tr>\n",
       "    <tr>\n",
       "      <th>9</th>\n",
       "      <td>FSF081</td>\n",
       "      <td>3686.461778</td>\n",
       "      <td>2</td>\n",
       "      <td>Cartulinas</td>\n",
       "      <td>Centro</td>\n",
       "      <td>2023-04-01</td>\n",
       "    </tr>\n",
       "  </tbody>\n",
       "</table>\n",
       "</div>"
      ],
      "text/plain": [
       "     CLAVE        PRECIO  CANTIDAD       LINEA    ZONA         DIA\n",
       "0   DJO759  30522.640813         4   Cuadernos  Centro  2023-04-01\n",
       "1   DZA615   1835.883027        34      Cables  Centro  2023-04-01\n",
       "2   EZX998  18224.354029        32       Mouse  Centro  2023-04-01\n",
       "3  HDT3102   6222.040551        43      Cables  Centro  2023-04-01\n",
       "4   XLF186  40254.957010        30     Tijeras  Centro  2023-04-01\n",
       "5   OOA274  17270.726576        25    Baterías  Centro  2023-04-01\n",
       "6   CSB028  10221.576160        38    Libretas  Centro  2023-04-01\n",
       "7   RPU424  26724.895722        21  Sacapuntas  Centro  2023-04-01\n",
       "8   RPU424  26724.895722        21  Sacapuntas  Centro  2023-04-01\n",
       "9   FSF081   3686.461778         2  Cartulinas  Centro  2023-04-01"
      ]
     },
     "execution_count": 21,
     "metadata": {},
     "output_type": "execute_result"
    }
   ],
   "source": [
    "# veamos los primero 10 registros\n",
    "df.head(10)"
   ]
  },
  {
   "cell_type": "code",
   "execution_count": 22,
   "metadata": {},
   "outputs": [
    {
     "data": {
      "text/html": [
       "<div>\n",
       "<style scoped>\n",
       "    .dataframe tbody tr th:only-of-type {\n",
       "        vertical-align: middle;\n",
       "    }\n",
       "\n",
       "    .dataframe tbody tr th {\n",
       "        vertical-align: top;\n",
       "    }\n",
       "\n",
       "    .dataframe thead th {\n",
       "        text-align: right;\n",
       "    }\n",
       "</style>\n",
       "<table border=\"1\" class=\"dataframe\">\n",
       "  <thead>\n",
       "    <tr style=\"text-align: right;\">\n",
       "      <th></th>\n",
       "      <th>CLAVE</th>\n",
       "      <th>PRECIO</th>\n",
       "      <th>CANTIDAD</th>\n",
       "      <th>LINEA</th>\n",
       "      <th>ZONA</th>\n",
       "      <th>DIA</th>\n",
       "    </tr>\n",
       "  </thead>\n",
       "  <tbody>\n",
       "    <tr>\n",
       "      <th>1126547</th>\n",
       "      <td>SOG284</td>\n",
       "      <td>9733.856245</td>\n",
       "      <td>12</td>\n",
       "      <td>Pinturas</td>\n",
       "      <td>Zócalo</td>\n",
       "      <td>2023-04-29</td>\n",
       "    </tr>\n",
       "    <tr>\n",
       "      <th>1126548</th>\n",
       "      <td>JVB868</td>\n",
       "      <td>12811.554664</td>\n",
       "      <td>44</td>\n",
       "      <td>Baterías</td>\n",
       "      <td>Zócalo</td>\n",
       "      <td>2023-04-29</td>\n",
       "    </tr>\n",
       "    <tr>\n",
       "      <th>1126549</th>\n",
       "      <td>EVW699</td>\n",
       "      <td>17452.655743</td>\n",
       "      <td>41</td>\n",
       "      <td>Bolsas</td>\n",
       "      <td>Zócalo</td>\n",
       "      <td>2023-04-29</td>\n",
       "    </tr>\n",
       "    <tr>\n",
       "      <th>1126550</th>\n",
       "      <td>FKI857</td>\n",
       "      <td>5439.904308</td>\n",
       "      <td>30</td>\n",
       "      <td>Pc</td>\n",
       "      <td>Zócalo</td>\n",
       "      <td>2023-04-29</td>\n",
       "    </tr>\n",
       "    <tr>\n",
       "      <th>1126551</th>\n",
       "      <td>CIH150</td>\n",
       "      <td>4326.963893</td>\n",
       "      <td>39</td>\n",
       "      <td>Cargadores</td>\n",
       "      <td>Zócalo</td>\n",
       "      <td>2023-04-29</td>\n",
       "    </tr>\n",
       "    <tr>\n",
       "      <th>1126552</th>\n",
       "      <td>PFA3110</td>\n",
       "      <td>32775.793090</td>\n",
       "      <td>9</td>\n",
       "      <td>Cables</td>\n",
       "      <td>Zócalo</td>\n",
       "      <td>2023-04-29</td>\n",
       "    </tr>\n",
       "    <tr>\n",
       "      <th>1126553</th>\n",
       "      <td>DGT469</td>\n",
       "      <td>8965.109739</td>\n",
       "      <td>9</td>\n",
       "      <td>Cargadores</td>\n",
       "      <td>Zócalo</td>\n",
       "      <td>2023-04-29</td>\n",
       "    </tr>\n",
       "  </tbody>\n",
       "</table>\n",
       "</div>"
      ],
      "text/plain": [
       "           CLAVE        PRECIO  CANTIDAD       LINEA    ZONA         DIA\n",
       "1126547   SOG284   9733.856245        12    Pinturas  Zócalo  2023-04-29\n",
       "1126548   JVB868  12811.554664        44    Baterías  Zócalo  2023-04-29\n",
       "1126549   EVW699  17452.655743        41      Bolsas  Zócalo  2023-04-29\n",
       "1126550   FKI857   5439.904308        30          Pc  Zócalo  2023-04-29\n",
       "1126551   CIH150   4326.963893        39  Cargadores  Zócalo  2023-04-29\n",
       "1126552  PFA3110  32775.793090         9      Cables  Zócalo  2023-04-29\n",
       "1126553   DGT469   8965.109739         9  Cargadores  Zócalo  2023-04-29"
      ]
     },
     "execution_count": 22,
     "metadata": {},
     "output_type": "execute_result"
    }
   ],
   "source": [
    "# veamos los ultimos 7 registros\n",
    "df.tail(7)"
   ]
  },
  {
   "cell_type": "code",
   "execution_count": 27,
   "metadata": {},
   "outputs": [
    {
     "data": {
      "text/plain": [
       "Index(['CLAVE', 'PRECIO', 'CANTIDAD', 'LINEA', 'ZONA', 'DIA'], dtype='object')"
      ]
     },
     "execution_count": 27,
     "metadata": {},
     "output_type": "execute_result"
    }
   ],
   "source": [
    "# ACCESO AL NOMBRE DE TODAS LAS COLUMNAS\n",
    "df.columns"
   ]
  },
  {
   "cell_type": "code",
   "execution_count": 28,
   "metadata": {},
   "outputs": [
    {
     "name": "stdout",
     "output_type": "stream",
     "text": [
      "<class 'pandas.core.frame.DataFrame'>\n",
      "RangeIndex: 1126554 entries, 0 to 1126553\n",
      "Data columns (total 6 columns):\n",
      " #   Column    Non-Null Count    Dtype  \n",
      "---  ------    --------------    -----  \n",
      " 0   CLAVE     1126554 non-null  object \n",
      " 1   PRECIO    1126554 non-null  float64\n",
      " 2   CANTIDAD  1126554 non-null  int64  \n",
      " 3   LINEA     1126554 non-null  object \n",
      " 4   ZONA      1126554 non-null  object \n",
      " 5   DIA       1126554 non-null  object \n",
      "dtypes: float64(1), int64(1), object(4)\n",
      "memory usage: 51.6+ MB\n"
     ]
    }
   ],
   "source": [
    "# ACCESO A INFORMACION GENERAL SOBRE EL DATAFRAME\n",
    "df.info()"
   ]
  },
  {
   "cell_type": "markdown",
   "metadata": {},
   "source": [
    "vemos el tipo de dato de cada columna, cuando valores no vacíos contienen (valores no nulos o _non-null_) y cuánto pesa el dataframe."
   ]
  },
  {
   "cell_type": "code",
   "execution_count": 29,
   "metadata": {},
   "outputs": [
    {
     "data": {
      "text/html": [
       "<div>\n",
       "<style scoped>\n",
       "    .dataframe tbody tr th:only-of-type {\n",
       "        vertical-align: middle;\n",
       "    }\n",
       "\n",
       "    .dataframe tbody tr th {\n",
       "        vertical-align: top;\n",
       "    }\n",
       "\n",
       "    .dataframe thead th {\n",
       "        text-align: right;\n",
       "    }\n",
       "</style>\n",
       "<table border=\"1\" class=\"dataframe\">\n",
       "  <thead>\n",
       "    <tr style=\"text-align: right;\">\n",
       "      <th></th>\n",
       "      <th>PRECIO</th>\n",
       "      <th>CANTIDAD</th>\n",
       "    </tr>\n",
       "  </thead>\n",
       "  <tbody>\n",
       "    <tr>\n",
       "      <th>count</th>\n",
       "      <td>1.126554e+06</td>\n",
       "      <td>1.126554e+06</td>\n",
       "    </tr>\n",
       "    <tr>\n",
       "      <th>mean</th>\n",
       "      <td>1.213506e+04</td>\n",
       "      <td>2.549073e+01</td>\n",
       "    </tr>\n",
       "    <tr>\n",
       "      <th>std</th>\n",
       "      <td>1.090513e+04</td>\n",
       "      <td>1.443051e+01</td>\n",
       "    </tr>\n",
       "    <tr>\n",
       "      <th>min</th>\n",
       "      <td>1.986720e-01</td>\n",
       "      <td>1.000000e+00</td>\n",
       "    </tr>\n",
       "    <tr>\n",
       "      <th>25%</th>\n",
       "      <td>3.063227e+03</td>\n",
       "      <td>1.300000e+01</td>\n",
       "    </tr>\n",
       "    <tr>\n",
       "      <th>50%</th>\n",
       "      <td>9.268553e+03</td>\n",
       "      <td>2.500000e+01</td>\n",
       "    </tr>\n",
       "    <tr>\n",
       "      <th>75%</th>\n",
       "      <td>1.844811e+04</td>\n",
       "      <td>3.800000e+01</td>\n",
       "    </tr>\n",
       "    <tr>\n",
       "      <th>max</th>\n",
       "      <td>4.761831e+04</td>\n",
       "      <td>5.000000e+01</td>\n",
       "    </tr>\n",
       "  </tbody>\n",
       "</table>\n",
       "</div>"
      ],
      "text/plain": [
       "             PRECIO      CANTIDAD\n",
       "count  1.126554e+06  1.126554e+06\n",
       "mean   1.213506e+04  2.549073e+01\n",
       "std    1.090513e+04  1.443051e+01\n",
       "min    1.986720e-01  1.000000e+00\n",
       "25%    3.063227e+03  1.300000e+01\n",
       "50%    9.268553e+03  2.500000e+01\n",
       "75%    1.844811e+04  3.800000e+01\n",
       "max    4.761831e+04  5.000000e+01"
      ]
     },
     "execution_count": 29,
     "metadata": {},
     "output_type": "execute_result"
    }
   ],
   "source": [
    "# ACCESO A ESTADISTICOS BASICOS DE COLUMNAS NUMERICAS (YA SEA INT64 O FLOAT64)\n",
    "df.describe()"
   ]
  },
  {
   "cell_type": "code",
   "execution_count": 24,
   "metadata": {},
   "outputs": [
    {
     "data": {
      "text/plain": [
       "0           DJO759\n",
       "1           DZA615\n",
       "2           EZX998\n",
       "3          HDT3102\n",
       "4           XLF186\n",
       "            ...   \n",
       "1126549     EVW699\n",
       "1126550     FKI857\n",
       "1126551     CIH150\n",
       "1126552    PFA3110\n",
       "1126553     DGT469\n",
       "Name: CLAVE, Length: 1126554, dtype: object"
      ]
     },
     "execution_count": 24,
     "metadata": {},
     "output_type": "execute_result"
    }
   ],
   "source": [
    "# ACCESO A LA INFORMACION DE UNA SOLA COLUMNA\n",
    "df['CLAVE']"
   ]
  },
  {
   "cell_type": "code",
   "execution_count": 25,
   "metadata": {},
   "outputs": [
    {
     "data": {
      "text/plain": [
       "0          Centro\n",
       "1          Centro\n",
       "2          Centro\n",
       "3          Centro\n",
       "4          Centro\n",
       "            ...  \n",
       "1126549    Zócalo\n",
       "1126550    Zócalo\n",
       "1126551    Zócalo\n",
       "1126552    Zócalo\n",
       "1126553    Zócalo\n",
       "Name: ZONA, Length: 1126554, dtype: object"
      ]
     },
     "execution_count": 25,
     "metadata": {},
     "output_type": "execute_result"
    }
   ],
   "source": [
    "df['ZONA']"
   ]
  },
  {
   "cell_type": "code",
   "execution_count": 26,
   "metadata": {},
   "outputs": [
    {
     "data": {
      "text/html": [
       "<div>\n",
       "<style scoped>\n",
       "    .dataframe tbody tr th:only-of-type {\n",
       "        vertical-align: middle;\n",
       "    }\n",
       "\n",
       "    .dataframe tbody tr th {\n",
       "        vertical-align: top;\n",
       "    }\n",
       "\n",
       "    .dataframe thead th {\n",
       "        text-align: right;\n",
       "    }\n",
       "</style>\n",
       "<table border=\"1\" class=\"dataframe\">\n",
       "  <thead>\n",
       "    <tr style=\"text-align: right;\">\n",
       "      <th></th>\n",
       "      <th>CLAVE</th>\n",
       "      <th>ZONA</th>\n",
       "    </tr>\n",
       "  </thead>\n",
       "  <tbody>\n",
       "    <tr>\n",
       "      <th>0</th>\n",
       "      <td>DJO759</td>\n",
       "      <td>Centro</td>\n",
       "    </tr>\n",
       "    <tr>\n",
       "      <th>1</th>\n",
       "      <td>DZA615</td>\n",
       "      <td>Centro</td>\n",
       "    </tr>\n",
       "    <tr>\n",
       "      <th>2</th>\n",
       "      <td>EZX998</td>\n",
       "      <td>Centro</td>\n",
       "    </tr>\n",
       "    <tr>\n",
       "      <th>3</th>\n",
       "      <td>HDT3102</td>\n",
       "      <td>Centro</td>\n",
       "    </tr>\n",
       "    <tr>\n",
       "      <th>4</th>\n",
       "      <td>XLF186</td>\n",
       "      <td>Centro</td>\n",
       "    </tr>\n",
       "    <tr>\n",
       "      <th>...</th>\n",
       "      <td>...</td>\n",
       "      <td>...</td>\n",
       "    </tr>\n",
       "    <tr>\n",
       "      <th>1126549</th>\n",
       "      <td>EVW699</td>\n",
       "      <td>Zócalo</td>\n",
       "    </tr>\n",
       "    <tr>\n",
       "      <th>1126550</th>\n",
       "      <td>FKI857</td>\n",
       "      <td>Zócalo</td>\n",
       "    </tr>\n",
       "    <tr>\n",
       "      <th>1126551</th>\n",
       "      <td>CIH150</td>\n",
       "      <td>Zócalo</td>\n",
       "    </tr>\n",
       "    <tr>\n",
       "      <th>1126552</th>\n",
       "      <td>PFA3110</td>\n",
       "      <td>Zócalo</td>\n",
       "    </tr>\n",
       "    <tr>\n",
       "      <th>1126553</th>\n",
       "      <td>DGT469</td>\n",
       "      <td>Zócalo</td>\n",
       "    </tr>\n",
       "  </tbody>\n",
       "</table>\n",
       "<p>1126554 rows × 2 columns</p>\n",
       "</div>"
      ],
      "text/plain": [
       "           CLAVE    ZONA\n",
       "0         DJO759  Centro\n",
       "1         DZA615  Centro\n",
       "2         EZX998  Centro\n",
       "3        HDT3102  Centro\n",
       "4         XLF186  Centro\n",
       "...          ...     ...\n",
       "1126549   EVW699  Zócalo\n",
       "1126550   FKI857  Zócalo\n",
       "1126551   CIH150  Zócalo\n",
       "1126552  PFA3110  Zócalo\n",
       "1126553   DGT469  Zócalo\n",
       "\n",
       "[1126554 rows x 2 columns]"
      ]
     },
     "execution_count": 26,
     "metadata": {},
     "output_type": "execute_result"
    }
   ],
   "source": [
    "# ACCESO A LA INFORMACION DE VARIAS COLUMNAS\n",
    "df[ ['CLAVE', 'ZONA'] ]"
   ]
  },
  {
   "cell_type": "markdown",
   "metadata": {},
   "source": [
    "En el caso anterior, cuando queremos acceder a la información de más de una columna, deberemos de colocar unos corchetes adicionales. \n",
    "\n",
    "En realidad, lo que hacemos al utilizar dichos corchetes es utilizar el concepto de **lista**, de modo que, para ver más de una columna en un dataframe, deberemos de pasar una lista con los nombres de las columnas de interes como cadenas de texto."
   ]
  },
  {
   "cell_type": "markdown",
   "metadata": {},
   "source": [
    "6."
   ]
  },
  {
   "cell_type": "code",
   "execution_count": 30,
   "metadata": {},
   "outputs": [
    {
     "data": {
      "text/plain": [
       "[1, 2, 3, 4, 5, 6, 7, 8, 9]"
      ]
     },
     "execution_count": 30,
     "metadata": {},
     "output_type": "execute_result"
    }
   ],
   "source": [
    "# Definimos una lista (\"coleccion de cosas\") \n",
    "# Lista solo numerica\n",
    "lista_ejemplo = [1, 2, 3, 4, 5, 6, 7, 8, 9]\n",
    "lista_ejemplo"
   ]
  },
  {
   "cell_type": "code",
   "execution_count": 34,
   "metadata": {},
   "outputs": [
    {
     "data": {
      "text/plain": [
       "[12, 42, 3.1416, 4, 5, 6, 7, 8, 9.5, 'Hola', 'Mundo', True, False]"
      ]
     },
     "execution_count": 34,
     "metadata": {},
     "output_type": "execute_result"
    }
   ],
   "source": [
    "# Lista mixta\n",
    "lista_ejemplo2 = [12, 42, 3.1416, 4, 5, 6, 7, 8, 9.5, \"Hola\", \"Mundo\", True, False]\n",
    "lista_ejemplo2"
   ]
  },
  {
   "cell_type": "markdown",
   "metadata": {},
   "source": [
    "la lista anterior tiene enteros, decimales, cadenas de texto y booleanos.\n",
    "\n",
    "Dada una lista, podemos acceder individualmente a sus elementos:"
   ]
  },
  {
   "cell_type": "code",
   "execution_count": 35,
   "metadata": {},
   "outputs": [
    {
     "data": {
      "text/plain": [
       "12"
      ]
     },
     "execution_count": 35,
     "metadata": {},
     "output_type": "execute_result"
    }
   ],
   "source": [
    "# accedemos al primer elemento de la lista, en Python siempre se empieza a contar desde 0\n",
    "lista_ejemplo2[0]"
   ]
  },
  {
   "cell_type": "code",
   "execution_count": 40,
   "metadata": {},
   "outputs": [
    {
     "name": "stdout",
     "output_type": "stream",
     "text": [
      "Segundo elemento de la lista: 42\n",
      "Tercer elemento de la lista: 3.1416\n",
      "Cuarto elemento de la lista: 4\n",
      "Quinto elemento de la lista: 5\n",
      "Sexto elemento de la lista: 6\n",
      "Septimo elemento de la lista: 7\n",
      "Octavo elemento de la lista: 8\n",
      "Noveno elemento de la lista: 9.5\n",
      "Decimo elemento de la lista: Hola\n",
      "Onceavo elemento de la lista: Mundo\n",
      "Doceavo elemento de la lista: True\n",
      "Treceavo elemento de la lista: False\n"
     ]
    }
   ],
   "source": [
    "print(\"Segundo elemento de la lista:\", lista_ejemplo2[1])\n",
    "print(\"Tercer elemento de la lista:\", lista_ejemplo2[2])\n",
    "print(\"Cuarto elemento de la lista:\", lista_ejemplo2[3])\n",
    "print(\"Quinto elemento de la lista:\", lista_ejemplo2[4])\n",
    "print(\"Sexto elemento de la lista:\", lista_ejemplo2[5])\n",
    "print(\"Septimo elemento de la lista:\", lista_ejemplo2[6])\n",
    "print(\"Octavo elemento de la lista:\", lista_ejemplo2[7])\n",
    "print(\"Noveno elemento de la lista:\", lista_ejemplo2[8])\n",
    "print(\"Decimo elemento de la lista:\", lista_ejemplo2[9])\n",
    "print(\"Onceavo elemento de la lista:\", lista_ejemplo2[10])\n",
    "print(\"Doceavo elemento de la lista:\", lista_ejemplo2[11])\n",
    "print(\"Treceavo elemento de la lista:\", lista_ejemplo2[12])"
   ]
  },
  {
   "cell_type": "code",
   "execution_count": 41,
   "metadata": {},
   "outputs": [
    {
     "ename": "IndexError",
     "evalue": "list index out of range",
     "output_type": "error",
     "traceback": [
      "\u001b[1;31m---------------------------------------------------------------------------\u001b[0m",
      "\u001b[1;31mIndexError\u001b[0m                                Traceback (most recent call last)",
      "\u001b[1;32mc:\\Users\\usuario\\OneDrive\\Documentos\\Programación\\Python\\Py-Excel\\Exceles\\Notebooks\\Nb1.ipynb Cell 41\u001b[0m line \u001b[0;36m<cell line: 2>\u001b[1;34m()\u001b[0m\n\u001b[0;32m      <a href='vscode-notebook-cell:/c%3A/Users/usuario/OneDrive/Documentos/Programaci%C3%B3n/Python/Py-Excel/Exceles/Notebooks/Nb1.ipynb#X60sZmlsZQ%3D%3D?line=0'>1</a>\u001b[0m \u001b[39m# si nos pasamos\u001b[39;00m\n\u001b[1;32m----> <a href='vscode-notebook-cell:/c%3A/Users/usuario/OneDrive/Documentos/Programaci%C3%B3n/Python/Py-Excel/Exceles/Notebooks/Nb1.ipynb#X60sZmlsZQ%3D%3D?line=1'>2</a>\u001b[0m \u001b[39mprint\u001b[39m(lista_ejemplo2[\u001b[39m13\u001b[39;49m])\n",
      "\u001b[1;31mIndexError\u001b[0m: list index out of range"
     ]
    }
   ],
   "source": [
    "# La lista anterior solo tiene 13 elementos, es decir, la numeracion seria\n",
    "# del 0 al 12. Si nos pasamos obtendremos un error\n",
    "print(lista_ejemplo2[13])"
   ]
  },
  {
   "cell_type": "code",
   "execution_count": 45,
   "metadata": {},
   "outputs": [
    {
     "name": "stdout",
     "output_type": "stream",
     "text": [
      "Primero elemento de la lista: 12\n",
      "Segundo elemento de la lista: 42\n",
      "Tercero elemento de la lista: 3.1416\n",
      "Cuarto elemento de la lista: 4\n",
      "Quinto elemento de la lista: 5\n",
      "Sexto elemento de la lista: 6\n",
      "Septimo elemento de la lista: 7\n",
      "Octavo elemento de la lista: 8\n",
      "Noveno elemento de la lista: 9.5\n",
      "Decimo elemento de la lista: Hola\n",
      "Onceavo elemento de la lista: Mundo\n",
      "Doceavo elemento de la lista: True\n",
      "Treceavo elemento de la lista: False\n"
     ]
    }
   ],
   "source": [
    "# Adelanto de la siguiente clase para enitar usar tantos prints.\n",
    "# Como lo hicimos antes:\n",
    "\n",
    "# print(\"Segundo elemento de la lista:\", lista_ejemplo2[1])\n",
    "# print(\"Tercer elemento de la lista:\", lista_ejemplo2[2])\n",
    "# print(\"Cuarto elemento de la lista:\", lista_ejemplo2[3])\n",
    "# print(\"Quinto elemento de la lista:\", lista_ejemplo2[4])\n",
    "# print(\"Sexto elemento de la lista:\", lista_ejemplo2[5])\n",
    "# print(\"Septimo elemento de la lista:\", lista_ejemplo2[6])\n",
    "# print(\"Octavo elemento de la lista:\", lista_ejemplo2[7])\n",
    "# print(\"Noveno elemento de la lista:\", lista_ejemplo2[8])\n",
    "# print(\"Decimo elemento de la lista:\", lista_ejemplo2[9])\n",
    "# print(\"Onceavo elemento de la lista:\", lista_ejemplo2[10])\n",
    "# print(\"Doceavo elemento de la lista:\", lista_ejemplo2[11])\n",
    "# print(\"Treceavo elemento de la lista:\", lista_ejemplo2[12])\n",
    "\n",
    "# Como lo podemos hacer más eficiente\n",
    "nombres = ['Primero', 'Segundo', 'Tercero', 'Cuarto', 'Quinto', 'Sexto', 'Septimo', \n",
    "           'Octavo', 'Noveno', 'Decimo', 'Onceavo', 'Doceavo', 'Treceavo']\n",
    "for i in range(0, 13):\n",
    "    print(f\"{nombres[i]} elemento de la lista:\", lista_ejemplo2[i])"
   ]
  }
 ],
 "metadata": {
  "kernelspec": {
   "display_name": "Python 3",
   "language": "python",
   "name": "python3"
  },
  "language_info": {
   "codemirror_mode": {
    "name": "ipython",
    "version": 3
   },
   "file_extension": ".py",
   "mimetype": "text/x-python",
   "name": "python",
   "nbconvert_exporter": "python",
   "pygments_lexer": "ipython3",
   "version": "3.10.4"
  },
  "orig_nbformat": 4
 },
 "nbformat": 4,
 "nbformat_minor": 2
}
